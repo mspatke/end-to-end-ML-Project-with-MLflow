{
 "cells": [
  {
   "cell_type": "code",
   "execution_count": 4,
   "metadata": {},
   "outputs": [],
   "source": [
    "import  os"
   ]
  },
  {
   "cell_type": "code",
   "execution_count": 5,
   "metadata": {},
   "outputs": [
    {
     "data": {
      "text/plain": [
       "'d:\\\\Python\\\\End-To-End Ml Project\\\\End-to-end-ML-Project-with-MLflow\\\\research'"
      ]
     },
     "execution_count": 5,
     "metadata": {},
     "output_type": "execute_result"
    }
   ],
   "source": [
    "%pwd"
   ]
  },
  {
   "cell_type": "code",
   "execution_count": 6,
   "metadata": {},
   "outputs": [],
   "source": [
    "os.chdir(\"../\")"
   ]
  },
  {
   "cell_type": "code",
   "execution_count": 7,
   "metadata": {},
   "outputs": [
    {
     "data": {
      "text/plain": [
       "'d:\\\\Python\\\\End-To-End Ml Project\\\\End-to-end-ML-Project-with-MLflow'"
      ]
     },
     "execution_count": 7,
     "metadata": {},
     "output_type": "execute_result"
    }
   ],
   "source": [
    "%pwd"
   ]
  },
  {
   "cell_type": "code",
   "execution_count": 8,
   "metadata": {},
   "outputs": [],
   "source": [
    "os.environ[\"MLFLOW_TRACKING_URI\"] = \"https://dagshub.com/mspatke/End-to-end-ML-Project-with-MLflow.mlflow\"\n",
    "os.environ[\"MLFLOW_TRACKING_USERNAME\"] = \"mspatke\"\n",
    "os.environ[\"MLFLOW_TRACKING_PASSWORD\"] = \"8518bb307abed9989560d016d935f9a3af3abb4a\""
   ]
  },
  {
   "cell_type": "code",
   "execution_count": 9,
   "metadata": {},
   "outputs": [],
   "source": [
    "#create entity\n",
    "\n",
    "from dataclasses import dataclass\n",
    "from pathlib import Path\n",
    "\n",
    "@dataclass(frozen = True)\n",
    "class ModelEvaluationConfig:\n",
    "    root_dir: Path\n",
    "    test_data_path: Path\n",
    "    model_path: Path\n",
    "    all_params: dict\n",
    "    metric_file_name:Path\n",
    "    target_column : str\n",
    "    mlflow_uri : str\n"
   ]
  },
  {
   "cell_type": "code",
   "execution_count": 24,
   "metadata": {},
   "outputs": [],
   "source": [
    "from mlProject.constants import *\n",
    "from mlProject.utils.common import read_yaml, create_directories, save_json\n",
    "\n",
    "\n",
    "class ConfigurationManager:\n",
    "\n",
    "      def __init__(\n",
    "            self,\n",
    "            config_filepath = CONFIG_FILE_PATH, # its reading from Config_file_path defined in constants\n",
    "            params_filepath = PARAMS_FILE_PATH,\n",
    "            schema_filepath = SCHEMA_FILE_PATH):\n",
    "\n",
    "            self.config = read_yaml(config_filepath)\n",
    "            self.params = read_yaml(params_filepath)\n",
    "            self.schema = read_yaml(schema_filepath)\n",
    "\n",
    "\n",
    "            create_directories([self.config.artifacts_root])\n",
    "\n",
    "    # reads the model evaluation configuration parameter and return as a object\n",
    "      def get_model_evaluation_config(self) -> ModelEvaluationConfig:\n",
    "            \n",
    "            config = self.config.model_evaluation\n",
    "            params = self.params.ElasticNet\n",
    "            schema = self.schema.TARGET_COLUMN\n",
    "\n",
    "            create_directories([config.root_dir])\n",
    "\n",
    "            model_evaluation_config = ModelEvaluationConfig(\n",
    "                  \n",
    "                  root_dir= config.root_dir,\n",
    "                  test_data_path= config.test_data_path,\n",
    "                  model_path= config.model_path,\n",
    "                  all_params= params,\n",
    "                  metric_file_name=config.metric_file_name,\n",
    "                  target_column = schema.name,\n",
    "                  mlflow_uri = \"https://dagshub.com/mspatke/End-to-end-ML-Project-with-MLflow.mlflow\"\n",
    "            )\n",
    "\n",
    "            return model_evaluation_config"
   ]
  },
  {
   "cell_type": "code",
   "execution_count": 11,
   "metadata": {},
   "outputs": [
    {
     "name": "stdout",
     "output_type": "stream",
     "text": [
      "[2023-11-04 23:44:25,810: INFO: utils: NumExpr defaulting to 8 threads.]\n"
     ]
    }
   ],
   "source": [
    "import os\n",
    "import pandas as pd\n",
    "from sklearn.metrics import mean_squared_error, mean_absolute_error, r2_score\n",
    "from urllib.parse import urlparse\n",
    "import mlflow\n",
    "import mlflow.sklearn\n",
    "import numpy as np\n",
    "import joblib"
   ]
  },
  {
   "cell_type": "code",
   "execution_count": 20,
   "metadata": {},
   "outputs": [],
   "source": [
    "class ModelEvalaution:\n",
    "\n",
    "    def __init__(self, config:ModelEvaluationConfig):\n",
    "\n",
    "        self.config = config\n",
    "\n",
    "\n",
    "    def eval_metrics(self, actual, pred):\n",
    "\n",
    "        rmse = np.sqrt(mean_squared_error(actual, pred))\n",
    "        mae= mean_absolute_error(actual, pred)\n",
    "        r2 = r2_score(actual, pred)\n",
    "        return rmse, mae, r2\n",
    "    \n",
    "\n",
    "    def log_into_mlflow(self):\n",
    "\n",
    "        test_data = pd.read_csv(self.config.test_data_path)\n",
    "        model = joblib.load(self.config.model_path)\n",
    "\n",
    "        test_x = test_data.drop([self.config.target_column], axis =1)\n",
    "        test_y = test_data[[self.config.target_column]]\n",
    "\n",
    "\n",
    "        mlflow.set_registry_uri(self.config.mlflow_uri)\n",
    "        tracking_url_type_store = urlparse(mlflow.get_tracking_uri()).scheme\n",
    "\n",
    "\n",
    "        with mlflow.start_run():\n",
    "\n",
    "            predicted_qualities = model.predict(test_x)\n",
    "            \n",
    "            (rmse, mae,r2) = self.eval_metrics(test_y, predicted_qualities)\n",
    "\n",
    "            #saving metric offline\n",
    "            scores = {\"rmse\": rmse, \"mae\": mae, \"r2\":r2}\n",
    "            save_json(path = Path(self.config.metric_file_name), data = scores)\n",
    "\n",
    "            mlflow.log_params(self.config.all_params)\n",
    "\n",
    "            mlflow.log_metric(\"rmse\",rmse)\n",
    "            mlflow.log_metric(\"mae\",mae)\n",
    "            mlflow.log_metric(\"r2\",r2)\n",
    "\n",
    "\n",
    "            if tracking_url_type_store !=\"file\":\n",
    "                mlflow.sklearn.log_model(model, \"model\",registered_model_name=\"ElasticnetModel\")\n",
    "            else:\n",
    "                mlflow.sklearn.log_model(model , \"model\")\n"
   ]
  },
  {
   "cell_type": "code",
   "execution_count": 25,
   "metadata": {},
   "outputs": [
    {
     "name": "stdout",
     "output_type": "stream",
     "text": [
      "[2023-11-05 00:36:05,745: INFO: common: yaml file: config\\config.yaml loaded successfully]\n",
      "[2023-11-05 00:36:05,748: INFO: common: yaml file: params.yaml loaded successfully]\n",
      "[2023-11-05 00:36:05,753: INFO: common: yaml file: schema.yaml loaded successfully]\n",
      "[2023-11-05 00:36:05,754: INFO: common: created directory at artifacts]\n",
      "[2023-11-05 00:36:05,755: INFO: common: created directory at artifacts/model_evaluation]\n",
      "[2023-11-05 00:36:11,082: INFO: common: json file saved at artifacts\\model_evaluation\\metrics.json]\n"
     ]
    },
    {
     "name": "stderr",
     "output_type": "stream",
     "text": [
      "Registered model 'ElasticnetModel' already exists. Creating a new version of this model...\n",
      "2023/11/05 00:36:34 INFO mlflow.tracking._model_registry.client: Waiting up to 300 seconds for model version to finish creation.                     Model name: ElasticnetModel, version 5\n",
      "Created version '5' of model 'ElasticnetModel'.\n"
     ]
    }
   ],
   "source": [
    "#create pipeline\n",
    "\n",
    "try:\n",
    "    config = ConfigurationManager()\n",
    "    model_evaluation_config = config.get_model_evaluation_config()\n",
    "    model_evaluation_config = ModelEvalaution(config = model_evaluation_config)\n",
    "    model_evaluation_config.log_into_mlflow()\n",
    "except Exception as e:\n",
    "    raise e"
   ]
  },
  {
   "cell_type": "code",
   "execution_count": null,
   "metadata": {},
   "outputs": [],
   "source": []
  }
 ],
 "metadata": {
  "kernelspec": {
   "display_name": "base",
   "language": "python",
   "name": "python3"
  },
  "language_info": {
   "codemirror_mode": {
    "name": "ipython",
    "version": 3
   },
   "file_extension": ".py",
   "mimetype": "text/x-python",
   "name": "python",
   "nbconvert_exporter": "python",
   "pygments_lexer": "ipython3",
   "version": "3.8.3"
  }
 },
 "nbformat": 4,
 "nbformat_minor": 2
}
